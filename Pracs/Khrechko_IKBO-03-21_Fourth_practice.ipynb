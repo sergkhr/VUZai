{
 "cells": [
  {
   "attachments": {},
   "cell_type": "markdown",
   "metadata": {},
   "source": [
    "# Искусственный Интеллект\n",
    "## Рабочая тетрадь № 4\n",
    "### Хречко Сергей Викторович ИКБО-03-21"
   ]
  },
  {
   "attachments": {},
   "cell_type": "markdown",
   "metadata": {},
   "source": [
    "Регрессия – это зависимость среднего значения какой-либо величины\n",
    "от некоторой другой величины или от нескольких других величин. В\n",
    "отличие от чисто функциональной зависимости 𝑦 = 𝑓(𝑥), когда каждому\n",
    "значению независимой переменной 𝑥 соответствует одно определённое\n",
    "значение зависимой переменной у, при регрессионной связи одному и тому\n",
    "же значению независимой переменной (фактору) 𝑥 могут соответствовать в\n",
    "зависимости от конкретного случая различные значения зависимой\n",
    "переменной (отклика) у.\n",
    "\n",
    "Изучение регрессии основано на том, что случайные величины Х и 𝑌\n",
    "связаны между собой вероятностной зависимостью: при каждом\n",
    "конкретном значении 𝑋 = 𝑥 величина 𝑌 является случайной величиной с\n",
    "вполне определённым распределением вероятностей. Зависимость\n",
    "зависимой переменной – отклика от одной независимой переменной –\n",
    "фактора или нескольких факторов называется уравнением регрессии. По\n",
    "количеству факторов выделяют парную (однофакторную) и\n",
    "множественную (многофакторную) регрессию. Для парной будем\n",
    "рассматривать следующие методы регрессии: линейную, показательную,\n",
    "экспоненциальную, гиперболическую и параболическую.\n",
    "\n",
    "Регрессионный анализ – это раздел математической статистики,\n",
    "изучающий регрессионную зависимость между случайными величинами по\n",
    "статистическим данным. Цель регрессионного анализа состоит в\n",
    "определении общего вида уравнения регрессии, вычислении оценок\n",
    "неизвестных параметров, входящих в уравнение регрессии проверке\n",
    "статистических гипотез о регрессионной связи.\n",
    "\n",
    "Таким образом, регрессионный анализ – набор статистических\n",
    "методов исследования влияния одной или нескольких независимых\n",
    "переменных 𝑋1, … , 𝑋𝑛 на зависимую переменную 𝑌. Независимые\n",
    "переменные иначе называют регрессорами или предикторами, а зависимые\n",
    "переменные – критериальными переменными."
   ]
  },
  {
   "attachments": {},
   "cell_type": "markdown",
   "metadata": {},
   "source": [
    "## 1.1 Теоретический материал - Линейные регрессионные модели\n",
    "Линейная регрессия (Linear regression) – модель зависимости переменной\n",
    "x от одной или нескольких других переменных (факторов, регрессоров,\n",
    "независимых переменных) с линейной функцией зависимости. Линейная\n",
    "регрессия относится к задаче определения «линии наилучшего соответствия»\n",
    "через набор точек данных и стала простым предшественником нелинейных\n",
    "методов, которые используют для обучения нейронных сетей.\n",
    "\n",
    "Цель линейной регрессии — поиск линии, которая наилучшим образом\n",
    "соответствует этим точкам. Напомним, что общее уравнение для прямой есть\n",
    "𝑓 (𝑥) = 𝑏 + 𝑚 ⋅ 𝑥 +, где 𝑚 – наклон линии, а 𝑏 – его сдвиг.\n",
    "\n",
    "### Функция потерь — метод наименьших квадратов\n",
    "Функция потерь – это мера количества ошибок, которые наша линейная\n",
    "регрессия делает на наборе данных. Хотя есть разные функции потерь, все они\n",
    "вычисляют расстояние между предсказанным значением 𝑦(х) и его\n",
    "фактическим значением.\n",
    "\n",
    "Одна очень распространенная функция потерь называется средней\n",
    "квадратичной ошибкой MSE. Чтобы вычислить MSE, мы просто берем все\n",
    "значения ошибок, считаем их квадраты длин и усредняем.\n",
    "\n",
    "### Задача экраполяции\n",
    "Допустим у нас есть много экспериментальных точек. Необходимо через\n",
    "них провести кривую, которая как можно ближе проходила к этим точкам. При\n",
    "этом необходимо минимизировать среднюю квадратичную ошибку (MSE).\n",
    "\n",
    "Для решения данной задачи в Python есть множество библиотек. Самыми\n",
    "распостраненными выступают:\n",
    "\n",
    "numpy - numpy.linalg.lstsq\n",
    "\n",
    "scipy - scipy.linalg (содержит все функции из numpy.linalg плюс часть\n",
    "новых функций, которых нет в numpy.linalg)"
   ]
  },
  {
   "attachments": {},
   "cell_type": "markdown",
   "metadata": {},
   "source": [
    "### 1.1.1 Пример\n",
    "Задача:\n",
    "\n",
    "Проведем прямую 𝑦 = 𝑚𝑥 + 𝑏 через экспериментальные точки"
   ]
  },
  {
   "cell_type": "code",
   "execution_count": 1,
   "metadata": {},
   "outputs": [
    {
     "data": {
      "text/plain": [
       "array([[0., 1.],\n",
       "       [1., 1.],\n",
       "       [2., 1.],\n",
       "       [3., 1.]])"
      ]
     },
     "execution_count": 1,
     "metadata": {},
     "output_type": "execute_result"
    }
   ],
   "source": [
    "import numpy as np\n",
    "x = np.array([0, 1, 2, 3])\n",
    "y = np.array([-1, 0.2, 0.9, 2.1])\n",
    "\n",
    "# Перепишем линейное уравнение y = mx + c как y = Ap, где A = [[x, 1]] и p = [[m], [c]]\n",
    "# Построим A по x\n",
    "\n",
    "A = np.vstack([x, np.ones(len(x))]).T\n",
    "A"
   ]
  },
  {
   "cell_type": "code",
   "execution_count": 2,
   "metadata": {},
   "outputs": [
    {
     "name": "stdout",
     "output_type": "stream",
     "text": [
      "0.9999999999999999 -0.9499999999999997\n"
     ]
    }
   ],
   "source": [
    "# Построим график полученной прямой и укадем на нем точки.\n",
    "m, c = np.linalg.lstsq(A, y, rcond=None)[0]\n",
    "print(m, c)"
   ]
  },
  {
   "cell_type": "code",
   "execution_count": 3,
   "metadata": {},
   "outputs": [
    {
     "data": {
      "image/png": "[encoded data removed]",
      "text/plain": [
       "<Figure size 640x480 with 1 Axes>"
      ]
     },
     "metadata": {},
     "output_type": "display_data"
    }
   ],
   "source": [
    "# Построимм график полученной прямой и укажем на нем точки.\n",
    "import matplotlib.pyplot as plt\n",
    "plt.plot(x, y, 'o', label='Original data', markersize=10)\n",
    "plt.plot(x, m*x + c, 'r', label='Линейная экстраполяция')\n",
    "plt.legend()\n",
    "plt.show()"
   ]
  },
  {
   "attachments": {},
   "cell_type": "markdown",
   "metadata": {},
   "source": [
    "### 1.1.2 Пример\n",
    "Задача:\n",
    "\n",
    "Пусть 𝑥, 𝑦 – вектора длиной 𝑛 > 3 (точек > 3). Задача заключается в\n",
    "построении эстраполяционного полинома второго порядка (параболы). Таким\n",
    "образом, необходимо найти такие коэффициенты поринома 𝑎, 𝑏, 𝑐 по методу\n",
    "наименьших квадратов. Данные мтогут быть получены в результате\n",
    "измерений. Покажем пример генерации данных случайным образом и\n",
    "загрузки их из файла."
   ]
  },
  {
   "cell_type": "code",
   "execution_count": 4,
   "metadata": {},
   "outputs": [],
   "source": [
    "from numpy import  *\n",
    "from numpy.random import *\n",
    "# генерируем случайные x и y\n",
    "delta = 1.0\n",
    "x = linspace(-5, 5, 11)\n",
    "y = x**2+delta*(rand(11)-0.5)\n",
    "x += delta*(rand(11)-0.5)\n",
    "\n",
    "# записываем данные в файл\n",
    "x.tofile('x_data.txt', '\\n')\n",
    "y.tofile('y_data.txt', '\\n')"
   ]
  },
  {
   "cell_type": "code",
   "execution_count": 5,
   "metadata": {},
   "outputs": [
    {
     "name": "stdout",
     "output_type": "stream",
     "text": [
      "[-4.64078302 -4.11551848 -3.1835311  -1.874514   -1.41729714  0.15260997\n",
      "  0.61629429  1.95127284  3.19477554  3.74853066  5.11653836]\n",
      "[25.20742581 16.18100271  8.91478169  3.95317122  0.8107828   0.2635007\n",
      "  0.6090029   4.23890618  9.09686668 16.0633317  24.51769741]\n"
     ]
    }
   ],
   "source": [
    "# читаем данные из файла\n",
    "x = fromfile('x_data.txt', float, sep='\\n')\n",
    "y = fromfile('y_data.txt', float, sep='\\n')\n",
    "\n",
    "print(x)\n",
    "print(y)"
   ]
  },
  {
   "cell_type": "code",
   "execution_count": 6,
   "metadata": {},
   "outputs": [
    {
     "data": {
      "image/png": "[encoded data removed]",
      "text/plain": [
       "<Figure size 640x480 with 1 Axes>"
      ]
     },
     "metadata": {},
     "output_type": "display_data"
    }
   ],
   "source": [
    "# Нахождение коэффициентов функции вида y = a*x**2 + b*x + c методом наименьших квадратов\n",
    "# задаем вектор m = [x**2, x, E]\n",
    "m = vstack((x**2, x, ones(len(x)))).T\n",
    "# находим коэффициенты при составляющих вектора m \n",
    "s = np.linalg.lstsq(m, y, rcond=None)[0]\n",
    "\n",
    "# на отрезке [-5, 5]\n",
    "x_prec = linspace(-5, 5, 101)\n",
    "# рисуем точки\n",
    "plt.plot(x, y, 'D')\n",
    "# рисуем кривую вида y = a*x**2 + b*x + c, подставляя из решения коэффициенты s[0], s[1], s[2]\n",
    "plt.plot(x_prec, s[0]*x_prec**2 + s[1]*x_prec + s[2], '-', lw=2)\n",
    "plt.grid()\n",
    "plt.savefig('парабола.png')"
   ]
  },
  {
   "attachments": {},
   "cell_type": "markdown",
   "metadata": {},
   "source": [
    "### 1.1.3 Пример\n",
    "Задача:\n",
    "\n",
    "По данным предыдущего примера постройте эстраполяционного полинома\n",
    "третьего порядка"
   ]
  },
  {
   "cell_type": "code",
   "execution_count": 13,
   "metadata": {},
   "outputs": [
    {
     "data": {
      "image/png": "[encoded data removed]",
      "text/plain": [
       "<Figure size 640x480 with 1 Axes>"
      ]
     },
     "metadata": {},
     "output_type": "display_data"
    }
   ],
   "source": [
    "m = vstack((x**3, x**2, x, ones(len(x)))).T\n",
    "\n",
    "s = np.linalg.lstsq(m, y, rcond=None)[0]\n",
    "\n",
    "x_prec = linspace(-5, 5, 101)\n",
    "\n",
    "plt.plot(x, y, 'D')\n",
    "plt.plot(x_prec, s[0]*x_prec**3 + s[1]*x_prec**2 + s[2]*x_prec + s[3], '-', lw=3)\n",
    "plt.grid()\n",
    "plt.savefig('кубическая.png')"
   ]
  },
  {
   "attachments": {},
   "cell_type": "markdown",
   "metadata": {},
   "source": [
    "### 1.1.4 Пример\n",
    "Задача:\n",
    "\n",
    "Необходимо проверить гипотезу, что наши точечно заданная функция ложится\n",
    "на кривую вида 𝑓(𝑥, 𝑏) = 𝑏0 + 𝑏1𝑒𝑥𝑝(−𝑏2𝑥^2)"
   ]
  },
  {
   "cell_type": "code",
   "execution_count": 14,
   "metadata": {},
   "outputs": [],
   "source": [
    "# Добавим шума в данные, сделанные по функции f(x, b) = b0 + b1*exp(-b2*x**2), с коэффициентами b = (0.25, 0.75, 0.5)\n",
    "beta = (0.25, 0.75, 0.5)\n",
    "def f(x, b0, b1, b2):\n",
    "    return b0 + b1*exp(-b2*x**2)\n",
    "# Зададим массив точек xi\n",
    "xdata = np.linspace(0, 5, 50)\n",
    "# Создаем теоретически  правильные данные yi (без шума)\n",
    "y = f(xdata, *beta)\n",
    "# Добавляем шум\n",
    "ydata = y + 0.05 * np.random.randn(len(xdata))"
   ]
  },
  {
   "cell_type": "code",
   "execution_count": 16,
   "metadata": {},
   "outputs": [
    {
     "data": {
      "text/plain": [
       "array([0.24152313, 0.79456734, 0.4988671 ])"
      ]
     },
     "execution_count": 16,
     "metadata": {},
     "output_type": "execute_result"
    }
   ],
   "source": [
    "# Используем функцию для получения решения в виде коэффициентов функции f(x) для указаных xdata и ydata\n",
    "from scipy.optimize import curve_fit\n",
    "beta_opt, beta_cov = curve_fit(f, xdata, ydata)\n",
    "beta_opt"
   ]
  },
  {
   "cell_type": "code",
   "execution_count": 17,
   "metadata": {},
   "outputs": [
    {
     "name": "stdout",
     "output_type": "stream",
     "text": [
      "0.0001685181817993889\n"
     ]
    }
   ],
   "source": [
    "# Вычислим линейное отклонение\n",
    "lin_dev = sum(beta_cov[0])\n",
    "print(lin_dev)"
   ]
  },
  {
   "cell_type": "code",
   "execution_count": 18,
   "metadata": {},
   "outputs": [
    {
     "name": "stdout",
     "output_type": "stream",
     "text": [
      "0.091698428370935\n"
     ]
    }
   ],
   "source": [
    "# Вычислим квадратичное отклонение\n",
    "residuals = ydata - f(xdata, *beta_opt)\n",
    "fres = sum(residuals**2)\n",
    "print(fres)"
   ]
  },
  {
   "cell_type": "code",
   "execution_count": 19,
   "metadata": {},
   "outputs": [
    {
     "data": {
      "image/png": "[encoded data removed]",
      "text/plain": [
       "<Figure size 640x480 with 1 Axes>"
      ]
     },
     "metadata": {},
     "output_type": "display_data"
    }
   ],
   "source": [
    "fig, ax = plt.subplots()\n",
    "ax.scatter(xdata, ydata)\n",
    "ax.plot(xdata, y, 'r', lw=2)\n",
    "ax.plot(xdata, f(xdata, *beta_opt), 'b', lw=2)\n",
    "ax.set_xlim(0, 5)\n",
    "ax.set_xlabel(r\"$x$\", fontsize=18)\n",
    "ax.set_ylabel(r\"$f(x, \\beta)$\", fontsize=18)\n",
    "plt.show()"
   ]
  },
  {
   "attachments": {},
   "cell_type": "markdown",
   "metadata": {},
   "source": [
    "### 1.1.5 Пример\n",
    "Задача:\n",
    "\n",
    "Необходимо проверить гипотезу, что наши точечно заданная функция ложится\n",
    "на кривые вида:\n",
    "1) 𝑓(𝑥, 𝑏) = 𝑏0 + 𝑏1𝑥\n",
    "2) 𝑓(𝑥, 𝑏) = 𝑏0 + 𝑏1𝑥 + 𝑏2𝑥^2\n",
    "3) 𝑓(𝑥, 𝑏) = 𝑏0 + 𝑏1𝑙𝑛(𝑥)\n",
    "4) 𝑓(𝑥, 𝑏) = 𝑏0 𝑥^𝑏1\n"
   ]
  },
  {
   "cell_type": "code",
   "execution_count": 24,
   "metadata": {},
   "outputs": [
    {
     "name": "stdout",
     "output_type": "stream",
     "text": [
      "4.6960384865114195e-06\n",
      "0.11188266848738904\n"
     ]
    },
    {
     "data": {
      "image/png": "[encoded data removed]",
      "text/plain": [
       "<Figure size 640x480 with 1 Axes>"
      ]
     },
     "metadata": {},
     "output_type": "display_data"
    }
   ],
   "source": [
    "# # 1 f\n",
    "# beta = (0.25, 0.75)\n",
    "# def f(x, b0, b1):\n",
    "#     return b0 + b1*x\n",
    "\n",
    "# # 2 f\n",
    "# beta = (0.25, 0.75, 0.5)\n",
    "# def f(x, b0, b1, b2):\n",
    "#     return b0 + b1*x + b2*x**2\n",
    "\n",
    "# # 3 f\n",
    "# beta = (1, 2)\n",
    "# def f (x, b0, b1):\n",
    "#     return b0 + b1*np.log(x)\n",
    "\n",
    "# 4 f\n",
    "beta = (1, 2)\n",
    "def f (x, b0, b1):\n",
    "    return b0 * x**b1\n",
    "\n",
    "xdata = np.linspace(1, 5, 50) # here change to 0, 5 if zero needed\n",
    "y = f(xdata, *beta)\n",
    "ydata = y + 0.05 * np.random.randn(len(xdata))\n",
    "beta_opt, beta_cov = curve_fit(f, xdata, ydata)\n",
    "beta_opt\n",
    "\n",
    "lin_dev = sum(beta_cov[0])\n",
    "print(lin_dev)\n",
    "\n",
    "residuals = ydata - f(xdata, *beta_opt)\n",
    "fres = sum(residuals**2)\n",
    "print(fres)\n",
    "\n",
    "fig, ax = plt.subplots()\n",
    "ax.scatter(xdata, ydata)\n",
    "ax.plot(xdata, y, 'r', lw=2)\n",
    "ax.plot(xdata, f(xdata, *beta_opt), 'b', lw=2)\n",
    "ax.set_xlim(0, 5)\n",
    "ax.set_xlabel(r\"$x$\", fontsize=18)\n",
    "ax.set_ylabel(r\"$f(x, \\beta)$\", fontsize=18)\n",
    "plt.show()"
   ]
  },
  {
   "attachments": {},
   "cell_type": "markdown",
   "metadata": {},
   "source": [
    "### Задание\n",
    "Подставьте собственные данные и поэкспериментируйте с представленными\n",
    "функциями. Проанализируйте динамику изменения данных."
   ]
  },
  {
   "cell_type": "code",
   "execution_count": 30,
   "metadata": {},
   "outputs": [
    {
     "name": "stdout",
     "output_type": "stream",
     "text": [
      "1.713296484461868e-08\n",
      "0.10332197737151255\n"
     ]
    },
    {
     "data": {
      "image/png": "[encoded data removed]",
      "text/plain": [
       "<Figure size 640x480 with 1 Axes>"
      ]
     },
     "metadata": {},
     "output_type": "display_data"
    }
   ],
   "source": [
    "beta = (1, 2)\n",
    "def f (x, b0, b1):\n",
    "    return b0 * x**3 + b1 * x**2\n",
    "\n",
    "xdata = np.linspace(-5, 5, 50) # here change to 0, 5 if zero needed\n",
    "y = f(xdata, *beta)\n",
    "ydata = y + 0.05 * np.random.randn(len(xdata))\n",
    "beta_opt, beta_cov = curve_fit(f, xdata, ydata)\n",
    "beta_opt\n",
    "\n",
    "lin_dev = sum(beta_cov[0])\n",
    "print(lin_dev)\n",
    "\n",
    "residuals = ydata - f(xdata, *beta_opt)\n",
    "fres = sum(residuals**2)\n",
    "print(fres)\n",
    "\n",
    "fig, ax = plt.subplots()\n",
    "ax.scatter(xdata, ydata)\n",
    "ax.plot(xdata, y, 'r', lw=2)\n",
    "ax.plot(xdata, f(xdata, *beta_opt), 'b', lw=2)\n",
    "ax.set_xlim(-5, 5)\n",
    "ax.set_xlabel(r\"$x$\", fontsize=18)\n",
    "ax.set_ylabel(r\"$f(x, \\beta)$\", fontsize=18)\n",
    "plt.show()"
   ]
  },
  {
   "attachments": {},
   "cell_type": "markdown",
   "metadata": {},
   "source": [
    "## 1.2. Теоретический материал - Задачи регрессии\n",
    "Линейная регрессия - это широко используемый метод статистического\n",
    "анализа, который использует регрессионный анализ в математической\n",
    "статистике для определения количественной взаимосвязи между двумя или\n",
    "более переменными. Если регрессионный анализ включает две или более\n",
    "независимых переменных, а связь между зависимой и независимой\n",
    "переменными является линейной, тогда имееи дело с множественной линейной\n",
    "регрессией.\n",
    "\n",
    "В этом разделе мы увидим, как библиотеку Scikit-Learn в Python для машинного\n",
    "обучения можно использовать для реализации функций регрессии. Мы начнем\n",
    "с простой линейной регрессии с участием двух переменных, а затем перейдем к\n",
    "линейной регрессии с участием нескольких переменных.\n"
   ]
  },
  {
   "attachments": {},
   "cell_type": "markdown",
   "metadata": {},
   "source": [
    "### 1.2.1 Пример\n",
    "Задача:\n",
    "\n",
    "Построим простую линейную регрессию в Python с использованием\n",
    "библиотеки scikit-learn"
   ]
  },
  {
   "cell_type": "code",
   "execution_count": 8,
   "metadata": {},
   "outputs": [
    {
     "data": {
      "text/html": [
       "<div>\n",
       "<style scoped>\n",
       "    .dataframe tbody tr th:only-of-type {\n",
       "        vertical-align: middle;\n",
       "    }\n",
       "\n",
       "    .dataframe tbody tr th {\n",
       "        vertical-align: top;\n",
       "    }\n",
       "\n",
       "    .dataframe thead th {\n",
       "        text-align: right;\n",
       "    }\n",
       "</style>\n",
       "<table border=\"1\" class=\"dataframe\">\n",
       "  <thead>\n",
       "    <tr style=\"text-align: right;\">\n",
       "      <th></th>\n",
       "      <th>Учебное время</th>\n",
       "      <th>Оценка</th>\n",
       "    </tr>\n",
       "  </thead>\n",
       "  <tbody>\n",
       "    <tr>\n",
       "      <th>0</th>\n",
       "      <td>0.50</td>\n",
       "      <td>10</td>\n",
       "    </tr>\n",
       "    <tr>\n",
       "      <th>1</th>\n",
       "      <td>0.75</td>\n",
       "      <td>22</td>\n",
       "    </tr>\n",
       "    <tr>\n",
       "      <th>2</th>\n",
       "      <td>1.00</td>\n",
       "      <td>13</td>\n",
       "    </tr>\n",
       "    <tr>\n",
       "      <th>3</th>\n",
       "      <td>1.25</td>\n",
       "      <td>43</td>\n",
       "    </tr>\n",
       "    <tr>\n",
       "      <th>4</th>\n",
       "      <td>1.50</td>\n",
       "      <td>20</td>\n",
       "    </tr>\n",
       "  </tbody>\n",
       "</table>\n",
       "</div>"
      ],
      "text/plain": [
       "   Учебное время  Оценка\n",
       "0           0.50      10\n",
       "1           0.75      22\n",
       "2           1.00      13\n",
       "3           1.25      43\n",
       "4           1.50      20"
      ]
     },
     "execution_count": 8,
     "metadata": {},
     "output_type": "execute_result"
    }
   ],
   "source": [
    "import pandas as pd\n",
    "import numpy as np\n",
    "import matplotlib.pyplot as plt\n",
    "from pandas import DataFrame, Series\n",
    "from sklearn.model_selection import train_test_split\n",
    "from sklearn.linear_model import LinearRegression\n",
    "\n",
    "my_dict = {'Учебное время': [0.50, 0.75, 1.00, 1.25, 1.50, 1.75, 1.75, 2.00, 2.25, 2.50, 2.75, 3.00, 3.25, 3.50, 4.00, 4.25, 4.50, 4.75, 5.00, 5.50],\n",
    "           'Оценка': [10, 22, 13, 43, 20, 22, 33, 50, 62, 48, 55, 75, 62, 73, 81, 76, 64, 82, 90, 93]}\n",
    "\n",
    "dataset = pd.DataFrame(my_dict)\n",
    "dataset.head()"
   ]
  },
  {
   "cell_type": "code",
   "execution_count": 9,
   "metadata": {},
   "outputs": [
    {
     "name": "stdout",
     "output_type": "stream",
     "text": [
      "(20, 2)\n"
     ]
    },
    {
     "data": {
      "text/html": [
       "<div>\n",
       "<style scoped>\n",
       "    .dataframe tbody tr th:only-of-type {\n",
       "        vertical-align: middle;\n",
       "    }\n",
       "\n",
       "    .dataframe tbody tr th {\n",
       "        vertical-align: top;\n",
       "    }\n",
       "\n",
       "    .dataframe thead th {\n",
       "        text-align: right;\n",
       "    }\n",
       "</style>\n",
       "<table border=\"1\" class=\"dataframe\">\n",
       "  <thead>\n",
       "    <tr style=\"text-align: right;\">\n",
       "      <th></th>\n",
       "      <th>Учебное время</th>\n",
       "      <th>Оценка</th>\n",
       "    </tr>\n",
       "  </thead>\n",
       "  <tbody>\n",
       "    <tr>\n",
       "      <th>count</th>\n",
       "      <td>20.000000</td>\n",
       "      <td>20.000000</td>\n",
       "    </tr>\n",
       "    <tr>\n",
       "      <th>mean</th>\n",
       "      <td>2.787500</td>\n",
       "      <td>53.700000</td>\n",
       "    </tr>\n",
       "    <tr>\n",
       "      <th>std</th>\n",
       "      <td>1.507165</td>\n",
       "      <td>26.435821</td>\n",
       "    </tr>\n",
       "    <tr>\n",
       "      <th>min</th>\n",
       "      <td>0.500000</td>\n",
       "      <td>10.000000</td>\n",
       "    </tr>\n",
       "    <tr>\n",
       "      <th>25%</th>\n",
       "      <td>1.687500</td>\n",
       "      <td>30.250000</td>\n",
       "    </tr>\n",
       "    <tr>\n",
       "      <th>50%</th>\n",
       "      <td>2.625000</td>\n",
       "      <td>58.500000</td>\n",
       "    </tr>\n",
       "    <tr>\n",
       "      <th>75%</th>\n",
       "      <td>4.062500</td>\n",
       "      <td>75.250000</td>\n",
       "    </tr>\n",
       "    <tr>\n",
       "      <th>max</th>\n",
       "      <td>5.500000</td>\n",
       "      <td>93.000000</td>\n",
       "    </tr>\n",
       "  </tbody>\n",
       "</table>\n",
       "</div>"
      ],
      "text/plain": [
       "       Учебное время     Оценка\n",
       "count      20.000000  20.000000\n",
       "mean        2.787500  53.700000\n",
       "std         1.507165  26.435821\n",
       "min         0.500000  10.000000\n",
       "25%         1.687500  30.250000\n",
       "50%         2.625000  58.500000\n",
       "75%         4.062500  75.250000\n",
       "max         5.500000  93.000000"
      ]
     },
     "execution_count": 9,
     "metadata": {},
     "output_type": "execute_result"
    }
   ],
   "source": [
    "print(dataset.shape)\n",
    "dataset.describe()"
   ]
  },
  {
   "cell_type": "code",
   "execution_count": 10,
   "metadata": {},
   "outputs": [
    {
     "data": {
      "image/png": "[encoded data removed]",
      "text/plain": [
       "<Figure size 640x480 with 1 Axes>"
      ]
     },
     "metadata": {},
     "output_type": "display_data"
    }
   ],
   "source": [
    "plt.scatter(dataset['Учебное время'], dataset['Оценка'], color='b', label = 'Данные экзамена')\n",
    "plt.xlabel('Часы')\n",
    "plt.ylabel('Оценка')\n",
    "plt.show()"
   ]
  },
  {
   "attachments": {},
   "cell_type": "markdown",
   "metadata": {},
   "source": [
    "После того как мы получили представление о данных, разделим информацию\n",
    "на «атрибуты» и «метки». Атрибуты – это независимые переменные, а метки\n",
    "– это зависимые переменные, значения которых должны быть предсказаны. В\n",
    "нашем наборе всего два столбца и необходимо предсказать оценку в\n",
    "зависимости от количества часов. Чтобы извлечь атрибуты и метки,\n",
    "выполните следующий скрипт:\n"
   ]
  },
  {
   "cell_type": "code",
   "execution_count": 11,
   "metadata": {},
   "outputs": [
    {
     "name": "stdout",
     "output_type": "stream",
     "text": [
      "[[0.5 ]\n",
      " [0.75]\n",
      " [1.  ]\n",
      " [1.25]\n",
      " [1.5 ]\n",
      " [1.75]\n",
      " [1.75]\n",
      " [2.  ]\n",
      " [2.25]\n",
      " [2.5 ]\n",
      " [2.75]\n",
      " [3.  ]\n",
      " [3.25]\n",
      " [3.5 ]\n",
      " [4.  ]\n",
      " [4.25]\n",
      " [4.5 ]\n",
      " [4.75]\n",
      " [5.  ]\n",
      " [5.5 ]]\n",
      "[10 22 13 43 20 22 33 50 62 48 55 75 62 73 81 76 64 82 90 93]\n"
     ]
    }
   ],
   "source": [
    "x = dataset.iloc[:, :-1].values\n",
    "y = dataset.iloc[:, 1].values\n",
    "print(x)\n",
    "print(y)"
   ]
  },
  {
   "cell_type": "code",
   "execution_count": 12,
   "metadata": {},
   "outputs": [
    {
     "name": "stdout",
     "output_type": "stream",
     "text": [
      "5.475400029908791\n",
      "[17.02706744]\n"
     ]
    }
   ],
   "source": [
    "X_train, X_test, y_train, y_test = train_test_split(x, y, test_size=0.2, random_state=0)\n",
    "regressor = LinearRegression()\n",
    "regressor.fit(X_train, y_train)\n",
    "print(regressor.intercept_)\n",
    "print(regressor.coef_)"
   ]
  },
  {
   "attachments": {},
   "cell_type": "markdown",
   "metadata": {},
   "source": [
    "Получившийся результат можно интерпретировать следующим образом: с\n",
    "каждым затраченным часом на обучение результат экзамена повышается\n",
    "приблизительно на 17 баллов. Далее можно построить прогнозы. Для этого мы\n",
    "будем использовать наши тестовые данные и посмотрим, насколько точно наш\n",
    "алгоритм предсказывает процентную оценку. Чтобы сделать прогноз на\n",
    "тестовых данных необходимо выполнить следующий код:"
   ]
  },
  {
   "cell_type": "code",
   "execution_count": 13,
   "metadata": {},
   "outputs": [
    {
     "data": {
      "text/html": [
       "<div>\n",
       "<style scoped>\n",
       "    .dataframe tbody tr th:only-of-type {\n",
       "        vertical-align: middle;\n",
       "    }\n",
       "\n",
       "    .dataframe tbody tr th {\n",
       "        vertical-align: top;\n",
       "    }\n",
       "\n",
       "    .dataframe thead th {\n",
       "        text-align: right;\n",
       "    }\n",
       "</style>\n",
       "<table border=\"1\" class=\"dataframe\">\n",
       "  <thead>\n",
       "    <tr style=\"text-align: right;\">\n",
       "      <th></th>\n",
       "      <th>Actual</th>\n",
       "      <th>Predicted</th>\n",
       "    </tr>\n",
       "  </thead>\n",
       "  <tbody>\n",
       "    <tr>\n",
       "      <th>0</th>\n",
       "      <td>90</td>\n",
       "      <td>90.610737</td>\n",
       "    </tr>\n",
       "    <tr>\n",
       "      <th>1</th>\n",
       "      <td>22</td>\n",
       "      <td>18.245701</td>\n",
       "    </tr>\n",
       "    <tr>\n",
       "      <th>2</th>\n",
       "      <td>93</td>\n",
       "      <td>99.124271</td>\n",
       "    </tr>\n",
       "    <tr>\n",
       "      <th>3</th>\n",
       "      <td>62</td>\n",
       "      <td>43.786302</td>\n",
       "    </tr>\n",
       "  </tbody>\n",
       "</table>\n",
       "</div>"
      ],
      "text/plain": [
       "   Actual  Predicted\n",
       "0      90  90.610737\n",
       "1      22  18.245701\n",
       "2      93  99.124271\n",
       "3      62  43.786302"
      ]
     },
     "execution_count": 13,
     "metadata": {},
     "output_type": "execute_result"
    }
   ],
   "source": [
    "y_pred = regressor.predict(X_test)\n",
    "df = pd.DataFrame({'Actual': y_test, 'Predicted': y_pred})\n",
    "df"
   ]
  },
  {
   "cell_type": "code",
   "execution_count": 14,
   "metadata": {},
   "outputs": [
    {
     "data": {
      "image/png": "[encoded data removed]",
      "text/plain": [
       "<Figure size 640x480 with 1 Axes>"
      ]
     },
     "metadata": {},
     "output_type": "display_data"
    }
   ],
   "source": [
    "df.plot(kind='bar')\n",
    "plt.grid(which=\"major\", linestyle='-', linewidth='0.5', color='green')\n",
    "plt.grid(which=\"minor\", linestyle=':', linewidth='0.5', color='black')\n",
    "plt.show()"
   ]
  },
  {
   "cell_type": "code",
   "execution_count": 15,
   "metadata": {},
   "outputs": [
    {
     "data": {
      "image/png": "[encoded data removed]",
      "text/plain": [
       "<Figure size 640x480 with 1 Axes>"
      ]
     },
     "metadata": {},
     "output_type": "display_data"
    }
   ],
   "source": [
    "plt.scatter(X_test, y_test, color=\"gray\")\n",
    "plt.plot(X_test, y_pred, color=\"red\", linewidth=2)\n",
    "plt.show()"
   ]
  },
  {
   "attachments": {},
   "cell_type": "markdown",
   "metadata": {},
   "source": [
    "### Задание\n",
    "Постройте модель линейной регрессии для произвольных данных из двух\n",
    "столбцов. Для примера можно взять точечную зависимость заработной платы от\n",
    "опыта работы:\n",
    "\n",
    "(https://raw.githubusercontent.com/AnnaShestova/salary-years-simple-linear-regression/master/Salary_Data.csv).\n",
    "\n",
    "Найдите коэффициенты линии регрессии. Постройте прогноз"
   ]
  },
  {
   "cell_type": "code",
   "execution_count": 19,
   "metadata": {},
   "outputs": [
    {
     "name": "stdout",
     "output_type": "stream",
     "text": [
      "26780.09915062818\n",
      "[9312.57512673]\n"
     ]
    },
    {
     "data": {
      "image/png": "[encoded data removed]",
      "text/plain": [
       "<Figure size 640x480 with 1 Axes>"
      ]
     },
     "metadata": {},
     "output_type": "display_data"
    }
   ],
   "source": [
    "import pandas as pd\n",
    "import numpy as np\n",
    "import matplotlib.pyplot as plt\n",
    "from pandas import DataFrame, Series\n",
    "from sklearn.model_selection import train_test_split\n",
    "from sklearn.linear_model import LinearRegression\n",
    "\n",
    "# download data from\n",
    "url = 'https://raw.githubusercontent.com/AnnaShestova/salary-years-simple-linear-regression/master/Salary_Data.csv'\n",
    "dataset = pd.read_csv(url)\n",
    "x = dataset.iloc[:, :-1].values\n",
    "y = dataset.iloc[:, 1].values\n",
    "X_train, X_test, y_train, y_test = train_test_split(x, y, test_size=0.2, random_state=0)\n",
    "regressor = LinearRegression()\n",
    "regressor.fit(X_train, y_train)\n",
    "\n",
    "\n",
    "y_pred = regressor.predict(X_test)\n",
    "df = pd.DataFrame({'Actual': y_test, 'Predicted': y_pred})\n",
    "df\n",
    "\n",
    "plt.scatter(dataset['YearsExperience'], dataset['Salary'], color='b', label = 'Данные')\n",
    "plt.xlabel('Опыт работы')\n",
    "plt.ylabel('Зарплата')\n",
    "plt.show()"
   ]
  },
  {
   "cell_type": "code",
   "execution_count": 20,
   "metadata": {},
   "outputs": [
    {
     "name": "stdout",
     "output_type": "stream",
     "text": [
      "26780.09915062818\n",
      "[9312.57512673]\n"
     ]
    },
    {
     "data": {
      "image/png": "[encoded data removed]",
      "text/plain": [
       "<Figure size 640x480 with 1 Axes>"
      ]
     },
     "metadata": {},
     "output_type": "display_data"
    }
   ],
   "source": [
    "print(regressor.intercept_)\n",
    "print(regressor.coef_)\n",
    "\n",
    "plt.scatter(X_test, y_test, color=\"gray\")\n",
    "plt.plot(X_test, y_pred, color=\"red\", linewidth=2)\n",
    "plt.show()"
   ]
  },
  {
   "attachments": {},
   "cell_type": "markdown",
   "metadata": {},
   "source": [
    "## 1.3. Теоретический материал - Множественная регрессия\n",
    "В предыдущем примере мы проиллюстрировали линейную регрессию\n",
    "с двумя переменными. Однако, почти все реальные задачи имеют больше\n",
    "параметров. Линейная регрессия с участием нескольких переменных\n",
    "называется «множественной линейной регрессией» или многомерной\n",
    "линейной регрессией. Шаги для выполнения множественной линейной\n",
    "регрессии аналогичны шагам для простой . Разница заключается в оценке.\n",
    "Вы можете использовать множественную регрессию, чтобы узнать, какой\n",
    "фактор оказывает наибольшее влияние на прогнозируемый результат или\n",
    "как различные переменные связаны друг с другом."
   ]
  },
  {
   "attachments": {},
   "cell_type": "markdown",
   "metadata": {},
   "source": [
    "### 1.3.1 Пример\n",
    "Задача:\n",
    "\n",
    "Для решения задачи множественной регрессии можно задействовать уже\n",
    "известный метод numpy.linalg.lstsq."
   ]
  },
  {
   "cell_type": "code",
   "execution_count": 21,
   "metadata": {},
   "outputs": [
    {
     "name": "stdout",
     "output_type": "stream",
     "text": [
      "[ 0.1338682   0.26840334 -0.02874936  1.5122571 ]\n"
     ]
    }
   ],
   "source": [
    "import numpy as np\n",
    "\n",
    "y = [1,2,3,4,3,4,5,3,5,5,4,5,4,5,4,5,6,0,6,3,1,3,1]\n",
    "x = [[0,2,4,1,5,4,5,9,9,9,3,7,8,8,6,6,5,5,5,6,6,5,5],\n",
    "     [4,1,2,3,4,5,6,7,5,8,7,8,7,8,7,8,6,8,9,2,1,5,6],\n",
    "     [4,1,2,5,6,7,8,9,7,8,7,8,7,4,3,1,2,3,4,1,3,9,7]]\n",
    "x = np.transpose(x)\n",
    "x = np.c_[x, np.ones(x.shape[0])]\n",
    "linreg = np.linalg.lstsq(x, y, rcond=None)[0]\n",
    "print(linreg)"
   ]
  },
  {
   "attachments": {},
   "cell_type": "markdown",
   "metadata": {},
   "source": [
    "Кроме этого можно использовать возможности библиотеки sсikit-learn.\n",
    "Рассмотрим пример."
   ]
  },
  {
   "attachments": {},
   "cell_type": "markdown",
   "metadata": {},
   "source": [
    "### 1.3.2 Пример\n",
    "Задача:\n",
    "\n",
    "Для данных из предыдущей задачи построить модель множественной\n",
    "линейной регрессии с использованием средств библиотеки sсikit-learn."
   ]
  },
  {
   "cell_type": "code",
   "execution_count": 22,
   "metadata": {},
   "outputs": [
    {
     "data": {
      "text/html": [
       "<div>\n",
       "<style scoped>\n",
       "    .dataframe tbody tr th:only-of-type {\n",
       "        vertical-align: middle;\n",
       "    }\n",
       "\n",
       "    .dataframe tbody tr th {\n",
       "        vertical-align: top;\n",
       "    }\n",
       "\n",
       "    .dataframe thead th {\n",
       "        text-align: right;\n",
       "    }\n",
       "</style>\n",
       "<table border=\"1\" class=\"dataframe\">\n",
       "  <thead>\n",
       "    <tr style=\"text-align: right;\">\n",
       "      <th></th>\n",
       "      <th>y</th>\n",
       "      <th>x1</th>\n",
       "      <th>x2</th>\n",
       "      <th>x3</th>\n",
       "    </tr>\n",
       "  </thead>\n",
       "  <tbody>\n",
       "    <tr>\n",
       "      <th>0</th>\n",
       "      <td>1</td>\n",
       "      <td>0</td>\n",
       "      <td>4</td>\n",
       "      <td>4</td>\n",
       "    </tr>\n",
       "    <tr>\n",
       "      <th>1</th>\n",
       "      <td>2</td>\n",
       "      <td>2</td>\n",
       "      <td>1</td>\n",
       "      <td>1</td>\n",
       "    </tr>\n",
       "    <tr>\n",
       "      <th>2</th>\n",
       "      <td>3</td>\n",
       "      <td>4</td>\n",
       "      <td>2</td>\n",
       "      <td>2</td>\n",
       "    </tr>\n",
       "    <tr>\n",
       "      <th>3</th>\n",
       "      <td>4</td>\n",
       "      <td>1</td>\n",
       "      <td>3</td>\n",
       "      <td>5</td>\n",
       "    </tr>\n",
       "    <tr>\n",
       "      <th>4</th>\n",
       "      <td>3</td>\n",
       "      <td>5</td>\n",
       "      <td>4</td>\n",
       "      <td>6</td>\n",
       "    </tr>\n",
       "  </tbody>\n",
       "</table>\n",
       "</div>"
      ],
      "text/plain": [
       "   y  x1  x2  x3\n",
       "0  1   0   4   4\n",
       "1  2   2   1   1\n",
       "2  3   4   2   2\n",
       "3  4   1   3   5\n",
       "4  3   5   4   6"
      ]
     },
     "execution_count": 22,
     "metadata": {},
     "output_type": "execute_result"
    }
   ],
   "source": [
    "import pandas as pd\n",
    "import numpy as np\n",
    "import matplotlib.pyplot as plt\n",
    "import seaborn as seabornInstance\n",
    "from sklearn.model_selection import train_test_split\n",
    "from sklearn.linear_model import LinearRegression\n",
    "from sklearn import metrics\n",
    "\n",
    "y = [1,2,3,4,3,4,5,3,5,5,4,5,4,5,4,5,6,0,6,3,1,3,1]\n",
    "x = [[0,2,4,1,5,4,5,9,9,9,3,7,8,8,6,6,5,5,5,6,6,5,5],\n",
    "     [4,1,2,3,4,5,6,7,5,8,7,8,7,8,7,8,6,8,9,2,1,5,6],\n",
    "     [4,1,2,5,6,7,8,9,7,8,7,8,7,4,3,1,2,3,4,1,3,9,7]]\n",
    "\n",
    "new_y = np.array(y)\n",
    "new_y = new_y.transpose()\n",
    "df1 = pd.DataFrame(new_y)\n",
    "new_x = np.array(x)\n",
    "new_x = new_x.transpose()\n",
    "df2 = pd.DataFrame(new_x)\n",
    "df1 = df1.rename(columns={0: 'y'}, inplace = False)\n",
    "df2 = df2.rename(columns={0: 'x1', 1: 'x2', 2: 'x3'}, inplace = False)\n",
    "\n",
    "frames = [df1, df2]\n",
    "dataset = pd.concat([df1, df2], axis=1, join=\"inner\")\n",
    "dataset.head()"
   ]
  },
  {
   "cell_type": "code",
   "execution_count": 23,
   "metadata": {},
   "outputs": [
    {
     "name": "stdout",
     "output_type": "stream",
     "text": [
      "(23, 4)\n"
     ]
    },
    {
     "data": {
      "text/html": [
       "<div>\n",
       "<style scoped>\n",
       "    .dataframe tbody tr th:only-of-type {\n",
       "        vertical-align: middle;\n",
       "    }\n",
       "\n",
       "    .dataframe tbody tr th {\n",
       "        vertical-align: top;\n",
       "    }\n",
       "\n",
       "    .dataframe thead th {\n",
       "        text-align: right;\n",
       "    }\n",
       "</style>\n",
       "<table border=\"1\" class=\"dataframe\">\n",
       "  <thead>\n",
       "    <tr style=\"text-align: right;\">\n",
       "      <th></th>\n",
       "      <th>y</th>\n",
       "      <th>x1</th>\n",
       "      <th>x2</th>\n",
       "      <th>x3</th>\n",
       "    </tr>\n",
       "  </thead>\n",
       "  <tbody>\n",
       "    <tr>\n",
       "      <th>count</th>\n",
       "      <td>23.000000</td>\n",
       "      <td>23.000000</td>\n",
       "      <td>23.000000</td>\n",
       "      <td>23.000000</td>\n",
       "    </tr>\n",
       "    <tr>\n",
       "      <th>mean</th>\n",
       "      <td>3.565217</td>\n",
       "      <td>5.347826</td>\n",
       "      <td>5.521739</td>\n",
       "      <td>5.043478</td>\n",
       "    </tr>\n",
       "    <tr>\n",
       "      <th>std</th>\n",
       "      <td>1.674029</td>\n",
       "      <td>2.404706</td>\n",
       "      <td>2.428422</td>\n",
       "      <td>2.704849</td>\n",
       "    </tr>\n",
       "    <tr>\n",
       "      <th>min</th>\n",
       "      <td>0.000000</td>\n",
       "      <td>0.000000</td>\n",
       "      <td>1.000000</td>\n",
       "      <td>1.000000</td>\n",
       "    </tr>\n",
       "    <tr>\n",
       "      <th>25%</th>\n",
       "      <td>3.000000</td>\n",
       "      <td>4.500000</td>\n",
       "      <td>4.000000</td>\n",
       "      <td>3.000000</td>\n",
       "    </tr>\n",
       "    <tr>\n",
       "      <th>50%</th>\n",
       "      <td>4.000000</td>\n",
       "      <td>5.000000</td>\n",
       "      <td>6.000000</td>\n",
       "      <td>5.000000</td>\n",
       "    </tr>\n",
       "    <tr>\n",
       "      <th>75%</th>\n",
       "      <td>5.000000</td>\n",
       "      <td>6.500000</td>\n",
       "      <td>7.500000</td>\n",
       "      <td>7.000000</td>\n",
       "    </tr>\n",
       "    <tr>\n",
       "      <th>max</th>\n",
       "      <td>6.000000</td>\n",
       "      <td>9.000000</td>\n",
       "      <td>9.000000</td>\n",
       "      <td>9.000000</td>\n",
       "    </tr>\n",
       "  </tbody>\n",
       "</table>\n",
       "</div>"
      ],
      "text/plain": [
       "               y         x1         x2         x3\n",
       "count  23.000000  23.000000  23.000000  23.000000\n",
       "mean    3.565217   5.347826   5.521739   5.043478\n",
       "std     1.674029   2.404706   2.428422   2.704849\n",
       "min     0.000000   0.000000   1.000000   1.000000\n",
       "25%     3.000000   4.500000   4.000000   3.000000\n",
       "50%     4.000000   5.000000   6.000000   5.000000\n",
       "75%     5.000000   6.500000   7.500000   7.000000\n",
       "max     6.000000   9.000000   9.000000   9.000000"
      ]
     },
     "execution_count": 23,
     "metadata": {},
     "output_type": "execute_result"
    }
   ],
   "source": [
    "print(dataset.shape)\n",
    "dataset.describe()"
   ]
  },
  {
   "cell_type": "code",
   "execution_count": 25,
   "metadata": {},
   "outputs": [
    {
     "data": {
      "text/html": [
       "<div>\n",
       "<style scoped>\n",
       "    .dataframe tbody tr th:only-of-type {\n",
       "        vertical-align: middle;\n",
       "    }\n",
       "\n",
       "    .dataframe tbody tr th {\n",
       "        vertical-align: top;\n",
       "    }\n",
       "\n",
       "    .dataframe thead th {\n",
       "        text-align: right;\n",
       "    }\n",
       "</style>\n",
       "<table border=\"1\" class=\"dataframe\">\n",
       "  <thead>\n",
       "    <tr style=\"text-align: right;\">\n",
       "      <th></th>\n",
       "      <th>Coefficient</th>\n",
       "    </tr>\n",
       "  </thead>\n",
       "  <tbody>\n",
       "    <tr>\n",
       "      <th>x1</th>\n",
       "      <td>0.223219</td>\n",
       "    </tr>\n",
       "    <tr>\n",
       "      <th>x2</th>\n",
       "      <td>0.136709</td>\n",
       "    </tr>\n",
       "    <tr>\n",
       "      <th>x3</th>\n",
       "      <td>-0.063757</td>\n",
       "    </tr>\n",
       "  </tbody>\n",
       "</table>\n",
       "</div>"
      ],
      "text/plain": [
       "    Coefficient\n",
       "x1     0.223219\n",
       "x2     0.136709\n",
       "x3    -0.063757"
      ]
     },
     "execution_count": 25,
     "metadata": {},
     "output_type": "execute_result"
    }
   ],
   "source": [
    "x = dataset[['x1', 'x2', 'x3']]\n",
    "y = dataset['y']\n",
    "x_train, x_test, y_train, y_test = train_test_split(x, y, test_size=0.2, random_state=0)\n",
    "regressor = LinearRegression()\n",
    "regressor.fit(x_train, y_train)\n",
    "coeff_df = pd.DataFrame(regressor.coef_, x.columns, columns=['Coefficient'])\n",
    "coeff_df"
   ]
  },
  {
   "cell_type": "code",
   "execution_count": 26,
   "metadata": {},
   "outputs": [
    {
     "data": {
      "text/html": [
       "<div>\n",
       "<style scoped>\n",
       "    .dataframe tbody tr th:only-of-type {\n",
       "        vertical-align: middle;\n",
       "    }\n",
       "\n",
       "    .dataframe tbody tr th {\n",
       "        vertical-align: top;\n",
       "    }\n",
       "\n",
       "    .dataframe thead th {\n",
       "        text-align: right;\n",
       "    }\n",
       "</style>\n",
       "<table border=\"1\" class=\"dataframe\">\n",
       "  <thead>\n",
       "    <tr style=\"text-align: right;\">\n",
       "      <th></th>\n",
       "      <th>Actual</th>\n",
       "      <th>Predicted</th>\n",
       "    </tr>\n",
       "  </thead>\n",
       "  <tbody>\n",
       "    <tr>\n",
       "      <th>11</th>\n",
       "      <td>5</td>\n",
       "      <td>4.119478</td>\n",
       "    </tr>\n",
       "    <tr>\n",
       "      <th>10</th>\n",
       "      <td>4</td>\n",
       "      <td>3.153648</td>\n",
       "    </tr>\n",
       "    <tr>\n",
       "      <th>21</th>\n",
       "      <td>3</td>\n",
       "      <td>3.199155</td>\n",
       "    </tr>\n",
       "    <tr>\n",
       "      <th>14</th>\n",
       "      <td>4</td>\n",
       "      <td>4.078333</td>\n",
       "    </tr>\n",
       "    <tr>\n",
       "      <th>20</th>\n",
       "      <td>1</td>\n",
       "      <td>3.258079</td>\n",
       "    </tr>\n",
       "  </tbody>\n",
       "</table>\n",
       "</div>"
      ],
      "text/plain": [
       "    Actual  Predicted\n",
       "11       5   4.119478\n",
       "10       4   3.153648\n",
       "21       3   3.199155\n",
       "14       4   4.078333\n",
       "20       1   3.258079"
      ]
     },
     "execution_count": 26,
     "metadata": {},
     "output_type": "execute_result"
    }
   ],
   "source": [
    "y_pred = regressor.predict(x_test)\n",
    "df = pd.DataFrame({'Actual': y_test, 'Predicted': y_pred})\n",
    "df"
   ]
  },
  {
   "cell_type": "code",
   "execution_count": 27,
   "metadata": {},
   "outputs": [
    {
     "name": "stdout",
     "output_type": "stream",
     "text": [
      "Mean Squared Error: 1.3272699242343065\n"
     ]
    }
   ],
   "source": [
    "print('Mean Squared Error:', metrics.mean_squared_error(y_test, y_pred))"
   ]
  },
  {
   "attachments": {},
   "cell_type": "markdown",
   "metadata": {},
   "source": [
    "Постройте модель множественной линейной регрессии для произвольных\n",
    "данных из нескольких столбцов. Для примера можно взять потребления\n",
    "газа (в миллионах галлонов) в 48 штатах США или набор данных о\n",
    "качестве красного вина (1) и (2) соответственно. Найдите коэффициенты\n",
    "множественной регрессии. Постройте прогноз.\n",
    "\n",
    "2. https://raw.githubusercontent.com/aniruddhachoudhury/Red-WineQuality/master/winequality-red.csv"
   ]
  },
  {
   "cell_type": "code",
   "execution_count": 31,
   "metadata": {},
   "outputs": [
    {
     "data": {
      "text/html": [
       "<div>\n",
       "<style scoped>\n",
       "    .dataframe tbody tr th:only-of-type {\n",
       "        vertical-align: middle;\n",
       "    }\n",
       "\n",
       "    .dataframe tbody tr th {\n",
       "        vertical-align: top;\n",
       "    }\n",
       "\n",
       "    .dataframe thead th {\n",
       "        text-align: right;\n",
       "    }\n",
       "</style>\n",
       "<table border=\"1\" class=\"dataframe\">\n",
       "  <thead>\n",
       "    <tr style=\"text-align: right;\">\n",
       "      <th></th>\n",
       "      <th>Coefficient</th>\n",
       "    </tr>\n",
       "  </thead>\n",
       "  <tbody>\n",
       "    <tr>\n",
       "      <th>fixed acidity</th>\n",
       "      <td>0.041284</td>\n",
       "    </tr>\n",
       "    <tr>\n",
       "      <th>volatile acidity</th>\n",
       "      <td>-1.149528</td>\n",
       "    </tr>\n",
       "    <tr>\n",
       "      <th>citric acid</th>\n",
       "      <td>-0.177927</td>\n",
       "    </tr>\n",
       "    <tr>\n",
       "      <th>residual sugar</th>\n",
       "      <td>0.027870</td>\n",
       "    </tr>\n",
       "    <tr>\n",
       "      <th>chlorides</th>\n",
       "      <td>-1.873407</td>\n",
       "    </tr>\n",
       "    <tr>\n",
       "      <th>free sulfur dioxide</th>\n",
       "      <td>0.002684</td>\n",
       "    </tr>\n",
       "    <tr>\n",
       "      <th>total sulfur dioxide</th>\n",
       "      <td>-0.002777</td>\n",
       "    </tr>\n",
       "    <tr>\n",
       "      <th>density</th>\n",
       "      <td>-31.516666</td>\n",
       "    </tr>\n",
       "    <tr>\n",
       "      <th>pH</th>\n",
       "      <td>-0.254486</td>\n",
       "    </tr>\n",
       "    <tr>\n",
       "      <th>sulphates</th>\n",
       "      <td>0.924040</td>\n",
       "    </tr>\n",
       "    <tr>\n",
       "      <th>alcohol</th>\n",
       "      <td>0.267797</td>\n",
       "    </tr>\n",
       "  </tbody>\n",
       "</table>\n",
       "</div>"
      ],
      "text/plain": [
       "                      Coefficient\n",
       "fixed acidity            0.041284\n",
       "volatile acidity        -1.149528\n",
       "citric acid             -0.177927\n",
       "residual sugar           0.027870\n",
       "chlorides               -1.873407\n",
       "free sulfur dioxide      0.002684\n",
       "total sulfur dioxide    -0.002777\n",
       "density                -31.516666\n",
       "pH                      -0.254486\n",
       "sulphates                0.924040\n",
       "alcohol                  0.267797"
      ]
     },
     "execution_count": 31,
     "metadata": {},
     "output_type": "execute_result"
    }
   ],
   "source": [
    "import pandas as pd\n",
    "import numpy as np\n",
    "import matplotlib.pyplot as plt\n",
    "import seaborn as seabornInstance\n",
    "from sklearn.model_selection import train_test_split\n",
    "from sklearn.linear_model import LinearRegression\n",
    "from sklearn import metrics\n",
    "\n",
    "url = 'https://raw.githubusercontent.com/aniruddhachoudhury/Red-Wine-Quality/master/winequality-red.csv'\n",
    "dataset = pd.read_csv(url)\n",
    "# dataset.head()\n",
    "\n",
    "y = dataset['quality']\n",
    "x = dataset.drop('quality', axis=1)\n",
    "\n",
    "x_train, x_test, y_train, y_test = train_test_split(x, y, test_size=0.2, random_state=0)\n",
    "regressor = LinearRegression()\n",
    "regressor.fit(x_train, y_train)\n",
    "coeff_df = pd.DataFrame(regressor.coef_, x.columns, columns=['Coefficient'])\n",
    "coeff_df\n",
    "\n"
   ]
  },
  {
   "cell_type": "code",
   "execution_count": 32,
   "metadata": {},
   "outputs": [
    {
     "data": {
      "text/html": [
       "<div>\n",
       "<style scoped>\n",
       "    .dataframe tbody tr th:only-of-type {\n",
       "        vertical-align: middle;\n",
       "    }\n",
       "\n",
       "    .dataframe tbody tr th {\n",
       "        vertical-align: top;\n",
       "    }\n",
       "\n",
       "    .dataframe thead th {\n",
       "        text-align: right;\n",
       "    }\n",
       "</style>\n",
       "<table border=\"1\" class=\"dataframe\">\n",
       "  <thead>\n",
       "    <tr style=\"text-align: right;\">\n",
       "      <th></th>\n",
       "      <th>Actual</th>\n",
       "      <th>Predicted</th>\n",
       "    </tr>\n",
       "  </thead>\n",
       "  <tbody>\n",
       "    <tr>\n",
       "      <th>1109</th>\n",
       "      <td>6</td>\n",
       "      <td>5.782930</td>\n",
       "    </tr>\n",
       "    <tr>\n",
       "      <th>1032</th>\n",
       "      <td>5</td>\n",
       "      <td>5.036193</td>\n",
       "    </tr>\n",
       "    <tr>\n",
       "      <th>1002</th>\n",
       "      <td>7</td>\n",
       "      <td>6.596989</td>\n",
       "    </tr>\n",
       "    <tr>\n",
       "      <th>487</th>\n",
       "      <td>6</td>\n",
       "      <td>5.339126</td>\n",
       "    </tr>\n",
       "    <tr>\n",
       "      <th>979</th>\n",
       "      <td>5</td>\n",
       "      <td>5.939529</td>\n",
       "    </tr>\n",
       "    <tr>\n",
       "      <th>...</th>\n",
       "      <td>...</td>\n",
       "      <td>...</td>\n",
       "    </tr>\n",
       "    <tr>\n",
       "      <th>794</th>\n",
       "      <td>6</td>\n",
       "      <td>6.559757</td>\n",
       "    </tr>\n",
       "    <tr>\n",
       "      <th>813</th>\n",
       "      <td>4</td>\n",
       "      <td>6.017576</td>\n",
       "    </tr>\n",
       "    <tr>\n",
       "      <th>1322</th>\n",
       "      <td>5</td>\n",
       "      <td>6.251291</td>\n",
       "    </tr>\n",
       "    <tr>\n",
       "      <th>704</th>\n",
       "      <td>4</td>\n",
       "      <td>5.163926</td>\n",
       "    </tr>\n",
       "    <tr>\n",
       "      <th>1023</th>\n",
       "      <td>6</td>\n",
       "      <td>6.367205</td>\n",
       "    </tr>\n",
       "  </tbody>\n",
       "</table>\n",
       "<p>320 rows × 2 columns</p>\n",
       "</div>"
      ],
      "text/plain": [
       "      Actual  Predicted\n",
       "1109       6   5.782930\n",
       "1032       5   5.036193\n",
       "1002       7   6.596989\n",
       "487        6   5.339126\n",
       "979        5   5.939529\n",
       "...      ...        ...\n",
       "794        6   6.559757\n",
       "813        4   6.017576\n",
       "1322       5   6.251291\n",
       "704        4   5.163926\n",
       "1023       6   6.367205\n",
       "\n",
       "[320 rows x 2 columns]"
      ]
     },
     "execution_count": 32,
     "metadata": {},
     "output_type": "execute_result"
    }
   ],
   "source": [
    "y_pred = regressor.predict(x_test)\n",
    "df = pd.DataFrame({'Actual': y_test, 'Predicted': y_pred})\n",
    "df"
   ]
  },
  {
   "cell_type": "code",
   "execution_count": 33,
   "metadata": {},
   "outputs": [
    {
     "name": "stdout",
     "output_type": "stream",
     "text": [
      "Mean Squared Error: 0.3844711978201246\n"
     ]
    }
   ],
   "source": [
    "print('Mean Squared Error:', metrics.mean_squared_error(y_test, y_pred))"
   ]
  },
  {
   "attachments": {},
   "cell_type": "markdown",
   "metadata": {},
   "source": [
    "Задача: Экспериментально получены N − значений величины Y при\n",
    "различных значениях величины X. Построить полиномы первой и второй\n",
    "степени, аппроксимирующие результаты эксперимента, с применением\n",
    "метода наименьших квадратов. Результаты выводятся в виде таблиц\n",
    "значений и графиков, полученных полиномов"
   ]
  },
  {
   "cell_type": "code",
   "execution_count": 36,
   "metadata": {},
   "outputs": [
    {
     "data": {
      "image/png": "[encoded data removed]",
      "text/plain": [
       "<Figure size 640x480 with 1 Axes>"
      ]
     },
     "metadata": {},
     "output_type": "display_data"
    }
   ],
   "source": [
    "x = [1.0, 1.2, 1.4, 1.6, 1.8, 2.0]\n",
    "y = [2.0, 6.0, 4.0, 4.0, 2.0, 5.0]\n",
    "\n",
    "z1 = np.polyfit(x, y, 1)\n",
    "p1 = np.poly1d(z1)\n",
    "z2 = np.polyfit(x, y, 2)\n",
    "p2 = np.poly1d(z2)\n",
    "# print(p1)\n",
    "# print(p2)\n",
    "plt.plot(x, y, 'o', x, p1(x), '-', x, p2(x), '--')\n",
    "plt.legend(['data', 'linear', 'quadratic'], loc='best')\n",
    "plt.show()"
   ]
  },
  {
   "cell_type": "code",
   "execution_count": 37,
   "metadata": {},
   "outputs": [
    {
     "name": "stdout",
     "output_type": "stream",
     "text": [
      "x \t y \t p1(x) \t p2(x)\n",
      "1.0 \t 2.0 \t 3.6 \t 3.3\n",
      "1.2 \t 6.0 \t 3.7 \t 3.8\n",
      "1.4 \t 4.0 \t 3.8 \t 4.0\n",
      "1.6 \t 4.0 \t 3.9 \t 4.1\n",
      "1.8 \t 2.0 \t 4.0 \t 4.0\n",
      "2.0 \t 5.0 \t 4.0 \t 3.8\n"
     ]
    }
   ],
   "source": [
    "# draw the table of values\n",
    "print('x \\t y \\t p1(x) \\t p2(x)')\n",
    "for i in range(len(x)):\n",
    "    print('{:.1f} \\t {:.1f} \\t {:.1f} \\t {:.1f}'.format(x[i], y[i], p1(x[i]), p2(x[i])))"
   ]
  }
 ],
 "metadata": {
  "kernelspec": {
   "display_name": "Python 3",
   "language": "python",
   "name": "python3"
  },
  "language_info": {
   "codemirror_mode": {
    "name": "ipython",
    "version": 3
   },
   "file_extension": ".py",
   "mimetype": "text/x-python",
   "name": "python",
   "nbconvert_exporter": "python",
   "pygments_lexer": "ipython3",
   "version": "3.10.7"
  },
  "orig_nbformat": 4
 },
 "nbformat": 4,
 "nbformat_minor": 2
}
