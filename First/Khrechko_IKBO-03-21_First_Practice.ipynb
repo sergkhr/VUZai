{
 "cells": [
  {
   "attachments": {},
   "cell_type": "markdown",
   "metadata": {},
   "source": [
    "# Искусственный Интеллект\n",
    "## Рабочая тетрадь № 1\n",
    "### Хречко Сергей Викторович ИКБО-03-21"
   ]
  },
  {
   "attachments": {},
   "cell_type": "markdown",
   "metadata": {},
   "source": [
    "## 1.1 Теоретический материал – Типы данных\n",
    "Типы данных\n",
    "Все типы данных в Python относятся к одной из 2-х категорий:\n",
    "изменяемые (mutable) и неизменяемые (immutable).\n",
    "Неизменяемые объекты:\n",
    "- числовые данные (int, float),\n",
    "- bool,\n",
    "- None,\n",
    "- символьные строки (class 'str'),\n",
    "- кортежи (tuple).\n",
    "\n",
    "Изменяемые объекты:\n",
    "- списки (list),\n",
    "- множества (set),\n",
    "- словари (dict)."
   ]
  },
  {
   "attachments": {},
   "cell_type": "markdown",
   "metadata": {},
   "source": [
    "### 1.2. Пример\n",
    "Задача:\n",
    "Выведите на печать и определите тип переменной.\n"
   ]
  },
  {
   "cell_type": "code",
   "execution_count": 2,
   "metadata": {},
   "outputs": [],
   "source": [
    "x = 3+5.2*7\n",
    "y = None\n",
    "z = 'a', 5, 12.345, (2, 'b')\n",
    "df = [['Антонова Антонина', 34, 'ж'], ['Борисов Борис', 26, 'М']]\n",
    "A = {1, 'title', 2, 'content'}"
   ]
  },
  {
   "cell_type": "code",
   "execution_count": 3,
   "metadata": {},
   "outputs": [
    {
     "name": "stdout",
     "output_type": "stream",
     "text": [
      "39.4 | <class 'float'> \n",
      " None | <class 'NoneType'> \n",
      " ('a', 5, 12.345, (2, 'b')) | <class 'tuple'> \n",
      " [['Антонова Антонина', 34, 'ж'], ['Борисов Борис', 26, 'М']] | <class 'list'> \n",
      " {1, 2, 'content', 'title'} | <class 'set'>\n"
     ]
    }
   ],
   "source": [
    "print(x, '|', type(x), '\\n', y, '|', type(y), '\\n', z, '|',\n",
    " type(z), '\\n', df, '|', type(df), '\\n', A, '|', type(A))"
   ]
  },
  {
   "cell_type": "code",
   "execution_count": 4,
   "metadata": {},
   "outputs": [],
   "source": [
    "#Выведите на печать и определите тип переменной\n",
    "x= 5 >= 2\n",
    "A = {1, 3, 7, 8}\n",
    "B = {2, 4, 5, 10, 'apple'}\n",
    "C = A & B\n",
    "df = 'Антонова Антонина', 34, 'ж'\n",
    "z = 'type'\n",
    "D = [1, 'title', 2, 'content']"
   ]
  },
  {
   "cell_type": "code",
   "execution_count": 5,
   "metadata": {},
   "outputs": [
    {
     "name": "stdout",
     "output_type": "stream",
     "text": [
      "True | <class 'bool'> \n",
      " {8, 1, 3, 7} | <class 'set'> \n",
      " {'apple', 2, 4, 5, 10} | <class 'set'> \n",
      " set() | <class 'set'> \n",
      " ('Антонова Антонина', 34, 'ж') | <class 'tuple'> \n",
      " type | <class 'str'> \n",
      " [1, 'title', 2, 'content'] | <class 'list'>\n"
     ]
    }
   ],
   "source": [
    "print(x, '|', type(x), '\\n', A, '|', type(A), '\\n', B, '|', type(B), '\\n',\n",
    " C, '|', type(C), '\\n', df, '|', type(df), '\\n', z, '|', type(z), '\\n',\n",
    "  D, '|', type(D))"
   ]
  },
  {
   "attachments": {},
   "cell_type": "markdown",
   "metadata": {},
   "source": [
    "## 2.1 Условный оператор"
   ]
  },
  {
   "attachments": {},
   "cell_type": "markdown",
   "metadata": {},
   "source": [
    "### 2.2.Пример\n",
    "\n",
    "Задача:\n",
    "\n",
    "Вывести на экран является ли переменная х положительной,\n",
    "отрицательной или равна нулю."
   ]
  },
  {
   "cell_type": "code",
   "execution_count": 6,
   "metadata": {},
   "outputs": [
    {
     "name": "stdout",
     "output_type": "stream",
     "text": [
      "x положительный\n"
     ]
    }
   ],
   "source": [
    "x = 125\n",
    "if x < 0:\n",
    "    print('x отрицательный')\n",
    "elif x == 0:\n",
    "    print('x равен нулю')\n",
    "else:\n",
    "    print('x положительный')"
   ]
  },
  {
   "attachments": {},
   "cell_type": "markdown",
   "metadata": {},
   "source": [
    "### 2.3. Задание\n",
    "\n",
    "Задача:\n",
    "\n",
    "Напишите код. Задается х, напечатать какому из интервалов\n",
    "принадлежит: (-infinity, -5), [-5, 5] или от (5, +infinity)"
   ]
  },
  {
   "cell_type": "code",
   "execution_count": 7,
   "metadata": {},
   "outputs": [
    {
     "name": "stdout",
     "output_type": "stream",
     "text": [
      "x принадлежит интервалу [-5, 5]\n"
     ]
    }
   ],
   "source": [
    "x = 1\n",
    "if x < -5:\n",
    "    print('x принадлежит интервалу (-infinity, -5)')\n",
    "elif x >= -5 and x <= 5:\n",
    "    print('x принадлежит интервалу [-5, 5]')\n",
    "else:\n",
    "    print('x принадлежит интервалу [5, +infinity)')"
   ]
  },
  {
   "attachments": {},
   "cell_type": "markdown",
   "metadata": {},
   "source": [
    "## 3.1 Циклы, массивы, срезы\n",
    "\n",
    "### 3.2.1 Пример\n",
    "\n",
    "Задача:\n",
    "\n",
    "Вывести все числа от 1 до 10 с шагом 3."
   ]
  },
  {
   "cell_type": "code",
   "execution_count": 8,
   "metadata": {},
   "outputs": [
    {
     "name": "stdout",
     "output_type": "stream",
     "text": [
      "1\n",
      "4\n",
      "7\n",
      "10\n"
     ]
    }
   ],
   "source": [
    "x = 1\n",
    "while x <= 10:\n",
    "    print(x)\n",
    "    x += 3"
   ]
  },
  {
   "attachments": {},
   "cell_type": "markdown",
   "metadata": {},
   "source": [
    "### 3.2.2 Пример\n",
    "\n",
    "Задача:\n",
    "\n",
    "Задан список. Напечатать все элементы списка."
   ]
  },
  {
   "cell_type": "code",
   "execution_count": 9,
   "metadata": {},
   "outputs": [
    {
     "name": "stdout",
     "output_type": "stream",
     "text": [
      "KNN\n",
      "decision tree\n",
      "linear model\n"
     ]
    }
   ],
   "source": [
    "models = ['KNN', 'decision tree', 'linear model']\n",
    "for model in models:\n",
    "    print(model)"
   ]
  },
  {
   "attachments": {},
   "cell_type": "markdown",
   "metadata": {},
   "source": [
    "### 3.2.3 Пример\n",
    "\n",
    "Задача:\n",
    "\n",
    "Создать список от 1 до 99 с шагом 7."
   ]
  },
  {
   "cell_type": "code",
   "execution_count": 10,
   "metadata": {},
   "outputs": [
    {
     "name": "stdout",
     "output_type": "stream",
     "text": [
      "[1, 8, 15, 22, 29, 36, 43, 50, 57, 64, 71, 78, 85, 92, 99]\n"
     ]
    }
   ],
   "source": [
    "list_int = range(1, 100, 7)\n",
    "print(list(list_int))"
   ]
  },
  {
   "attachments": {},
   "cell_type": "markdown",
   "metadata": {},
   "source": [
    "### 3.2.4 Пример\n",
    "\n",
    "Задача:\n",
    "\n",
    "Вывести на экран числа от 1 до 105 с шагом 25, используя функцию\n",
    "range()"
   ]
  },
  {
   "cell_type": "code",
   "execution_count": 11,
   "metadata": {},
   "outputs": [
    {
     "name": "stdout",
     "output_type": "stream",
     "text": [
      "5\n",
      "30\n",
      "55\n",
      "80\n",
      "105\n"
     ]
    }
   ],
   "source": [
    "for i in range(5, 106, 25):\n",
    "    print(i)"
   ]
  },
  {
   "attachments": {},
   "cell_type": "markdown",
   "metadata": {},
   "source": [
    "### 3.2.5 Пример\n",
    "\n",
    "Задача:\n",
    "\n",
    "Срез. Необходимо получить каждый k-й элемент массива a, начиная с\n",
    "элемента с индексом i (включительно) и заканчивая элементом с\n",
    "индексом j (не включительно), c шагом 2. Или переставить все\n",
    "элементы в обратном порядке"
   ]
  },
  {
   "cell_type": "code",
   "execution_count": 12,
   "metadata": {},
   "outputs": [
    {
     "name": "stdout",
     "output_type": "stream",
     "text": [
      "[2, 4, 6]\n",
      "[9, 8, 7, 6, 5, 4, 3, 2, 1]\n"
     ]
    }
   ],
   "source": [
    "a = [1, 2, 3, 4, 5, 6, 7 ,8 , 9]\n",
    "b = a[1:7:2]\n",
    "c = a[::-1]\n",
    "print(b)\n",
    "print(c)"
   ]
  },
  {
   "attachments": {},
   "cell_type": "markdown",
   "metadata": {},
   "source": [
    "### 3.3.1 Задание\n",
    "\n",
    "Задача:\n",
    "\n",
    "Выведите числа из примера на while (3.2.1) в обратном порядке"
   ]
  },
  {
   "cell_type": "code",
   "execution_count": 13,
   "metadata": {},
   "outputs": [
    {
     "name": "stdout",
     "output_type": "stream",
     "text": [
      "10\n",
      "7\n",
      "4\n",
      "1\n"
     ]
    }
   ],
   "source": [
    "x = 10\n",
    "while x >= 1:\n",
    "    print(x)\n",
    "    x -= 3"
   ]
  },
  {
   "attachments": {},
   "cell_type": "markdown",
   "metadata": {},
   "source": [
    "### 3.3.2 Задание\n",
    "\n",
    "Задача:\n",
    "\n",
    "При решении задач машинного обучения часто в качестве объектов\n",
    "исследования выступает человек. Создайте список значимых\n",
    "характеристик (признаков), идентифицирующих человека. Выведите\n",
    "список на экран."
   ]
  },
  {
   "cell_type": "code",
   "execution_count": 14,
   "metadata": {},
   "outputs": [
    {
     "name": "stdout",
     "output_type": "stream",
     "text": [
      "head\n",
      "body\n",
      "arm\n",
      "leg\n"
     ]
    }
   ],
   "source": [
    "human = ['head', 'body', 'arm', 'leg']\n",
    "for i in human:\n",
    "    print(i)"
   ]
  },
  {
   "attachments": {},
   "cell_type": "markdown",
   "metadata": {},
   "source": [
    "### 3.3.3 Задание\n",
    "\n",
    "Задача:\n",
    "\n",
    "Создать список чисел от 2 до 15 с шагом 1."
   ]
  },
  {
   "cell_type": "code",
   "execution_count": 16,
   "metadata": {},
   "outputs": [
    {
     "name": "stdout",
     "output_type": "stream",
     "text": [
      "[2, 3, 4, 5, 6, 7, 8, 9, 10, 11, 12, 13, 14, 15]\n"
     ]
    }
   ],
   "source": [
    "int_list = range(2, 16)\n",
    "print(list(int_list))"
   ]
  },
  {
   "attachments": {},
   "cell_type": "markdown",
   "metadata": {},
   "source": [
    "### 3.3.4 Задание\n",
    "\n",
    "Задача:\n",
    "\n",
    "Выведите числа из примера на for c функцией range() (3.2.4) в\n",
    "обратном порядке"
   ]
  },
  {
   "cell_type": "code",
   "execution_count": 19,
   "metadata": {},
   "outputs": [
    {
     "name": "stdout",
     "output_type": "stream",
     "text": [
      "105\n",
      "80\n",
      "55\n",
      "30\n",
      "5\n"
     ]
    }
   ],
   "source": [
    "for i in range(105, 4, -25):\n",
    "    print(i)"
   ]
  },
  {
   "attachments": {},
   "cell_type": "markdown",
   "metadata": {},
   "source": [
    "### 3.3.5 Задание\n",
    "\n",
    "Задача:\n",
    "\n",
    "Срез. Напишите код, который все элементы массива x с четными\n",
    "индексами переставит в обратном порядке. Т.е. если x = [0, 1, 2, 3, 4,\n",
    "5, 6, 7, 8, 9], то код должен сформировать [8, 1, 6, 3, 4, 5, 2, 7, 0, 9]."
   ]
  },
  {
   "cell_type": "code",
   "execution_count": 21,
   "metadata": {},
   "outputs": [
    {
     "name": "stdout",
     "output_type": "stream",
     "text": [
      "[8, 1, 6, 3, 4, 5, 2, 7, 0, 9]\n"
     ]
    }
   ],
   "source": [
    "x = [0, 1, 2, 3, 4, 5, 6, 7, 8, 9]\n",
    "x[::2] = x[::2][::-1]\n",
    "print(x)"
   ]
  },
  {
   "attachments": {},
   "cell_type": "markdown",
   "metadata": {},
   "source": [
    "## 4.1 Библиотеки\n",
    "\n",
    "Машинное обучение опирается на фундаментальные понятия и законы\n",
    "математики и информатики. Библиотека математических функций (math)\n",
    "применяется при решении большинства прикладных задач анализа данных.\n",
    "Также, и некоторые другие библиотеки Python содержат математические\n",
    "функции (например, NumPy). Важную роль играет библиотека matplotlib,\n",
    "которая позволяет производить визуализацию расчетов в удобной для\n",
    "восприятия человеком форме: графики, диаграммы, гистограммы.\n",
    "\n",
    "Подключение библиотек – синтаксис:\n",
    "import math as m\n",
    "import numpy as np\n",
    "import matplotlib.pyplot as plt\n",
    "etc…\n",
    "\n",
    "Библиотеки в python содержат не только функции, позволяющие решать\n",
    "различные задачи, но и некоторые популярные константы, например число\n",
    "Эйлера\n",
    "\n",
    "### 4.2.1 Пример\n",
    "\n",
    "Задача:\n",
    "\n",
    "Рассчитать синус от е радиан и вывести результат на экран"
   ]
  },
  {
   "cell_type": "code",
   "execution_count": 22,
   "metadata": {},
   "outputs": [
    {
     "name": "stdout",
     "output_type": "stream",
     "text": [
      "0.41078129050290885\n"
     ]
    }
   ],
   "source": [
    "import math as m\n",
    "print (m.sin (m.e))"
   ]
  },
  {
   "attachments": {},
   "cell_type": "markdown",
   "metadata": {},
   "source": [
    "### 4.2.2 Пример\n",
    "\n",
    "Задача:\n",
    "\n",
    "Для функции sin(𝑥𝑒\n",
    "cos(𝑥)\n",
    ") на интервале [0;10] с шагом 0,05 построить\n",
    "график функции, закрасить площадь под ним и вычислить значение\n",
    "этой площади.\n",
    "Для вычисления площади воспользуйте функции trapz(), вычисляющей\n",
    "интеграл по правилу трапеции. Для ее корректной работы необходимо\n",
    "подключить следующие библиотеки:\n",
    "from scipy.integrate import simps\n",
    "from numpy import trapz"
   ]
  },
  {
   "cell_type": "code",
   "execution_count": 25,
   "metadata": {},
   "outputs": [
    {
     "name": "stdout",
     "output_type": "stream",
     "text": [
      "73.50792907748662\n"
     ]
    },
    {
     "data": {
      "image/png": "[encoded data removed]",
      "text/plain": [
       "<Figure size 640x480 with 1 Axes>"
      ]
     },
     "metadata": {},
     "output_type": "display_data"
    }
   ],
   "source": [
    "import numpy as np\n",
    "import matplotlib.pyplot as plt\n",
    "import scipy.integrate as simps\n",
    "from numpy import trapz\n",
    "x = np.arange(0.0, 10, 0.1)\n",
    "y = np.abs(np.sin(x*np.exp(np.cos(x))))\n",
    "plt.grid()\n",
    "plt.plot(x, y, c = \"r\")\n",
    "plt.fill_between(x, y)\n",
    "\n",
    "area = trapz(y)\n",
    "print(area)"
   ]
  },
  {
   "attachments": {},
   "cell_type": "markdown",
   "metadata": {},
   "source": [
    "### 4.2.3 Пример\n",
    "\n",
    "Задача:\n",
    "\n",
    "Дано некоторое распределение оценок в группе за экзамен. Нарисовать\n",
    "круговую и точечную диаграммы распределения. "
   ]
  },
  {
   "cell_type": "code",
   "execution_count": 26,
   "metadata": {},
   "outputs": [
    {
     "data": {
      "image/png": "[encoded data removed]",
      "text/plain": [
       "<Figure size 1000x700 with 1 Axes>"
      ]
     },
     "metadata": {},
     "output_type": "display_data"
    },
    {
     "data": {
      "text/plain": [
       "<matplotlib.collections.PathCollection at 0x21d7b89fa90>"
      ]
     },
     "execution_count": 26,
     "metadata": {},
     "output_type": "execute_result"
    },
    {
     "data": {
      "image/png": "[encoded data removed]",
      "text/plain": [
       "<Figure size 640x480 with 1 Axes>"
      ]
     },
     "metadata": {},
     "output_type": "display_data"
    }
   ],
   "source": [
    "from matplotlib import pyplot as plt\n",
    "import numpy as np\n",
    "\n",
    "marks = ['Неуд', 'Удовл', 'Хор', 'Отл']\n",
    "\n",
    "data = [3, 7, 8, 4]\n",
    "fig = plt.figure(figsize = (10, 7))\n",
    "plt.pie(data, labels = marks)\n",
    "plt.show()\n",
    "plt.grid()\n",
    "plt.scatter(marks, data)"
   ]
  },
  {
   "attachments": {},
   "cell_type": "markdown",
   "metadata": {},
   "source": [
    "### 4.3.1 Задание\n",
    "\n",
    "Задача:\n",
    "\n",
    "Задайте массив случайных значений из интервала(0; 1).\n",
    "Рассчитайте средние и медианные значения для массива, сравните\n",
    "результаты, какие выводы можно сделать о значениях?\n",
    "Постройте точечную диаграмму рассения полученного ряда."
   ]
  },
  {
   "cell_type": "code",
   "execution_count": 30,
   "metadata": {},
   "outputs": [
    {
     "name": "stdout",
     "output_type": "stream",
     "text": [
      "среднее: 0.5489395599060047\n",
      "медиана: 0.5065473574817204\n"
     ]
    },
    {
     "data": {
      "image/png": "[encoded data removed]",
      "text/plain": [
       "<Figure size 640x480 with 1 Axes>"
      ]
     },
     "metadata": {},
     "output_type": "display_data"
    }
   ],
   "source": [
    "import random\n",
    "from matplotlib import pyplot as plt\n",
    "import numpy as np\n",
    "\n",
    "x = np.random.rand(20)\n",
    "print('среднее:', np.mean(x))\n",
    "print('медиана:', np.median(x))\n",
    "\n",
    "plt.scatter(x, x)\n",
    "plt.show()"
   ]
  },
  {
   "attachments": {},
   "cell_type": "markdown",
   "metadata": {},
   "source": [
    "### 4.3.2 Задание\n",
    "\n",
    "Задача:\n",
    "\n",
    "Дана функция\n",
    "$$\n",
    "\\frac{\\sqrt{1+e^{\\sqrt{x}}+cosx^2}}{\\left | 1 - sin^{3}x \\right |} + ln|2x|\n",
    "$$\n",
    "Создать массив из 10 значений\n",
    "функции (𝑥, например, изменяется от 1 до 10). Выделить срез первой\n",
    "половины массива и построить графики для основного массива –\n",
    "линейный и для среза – точечный\n"
   ]
  },
  {
   "cell_type": "code",
   "execution_count": 4,
   "metadata": {},
   "outputs": [
    {
     "data": {
      "image/png": "[encoded data removed]",
      "text/plain": [
       "<Figure size 640x480 with 1 Axes>"
      ]
     },
     "metadata": {},
     "output_type": "display_data"
    },
    {
     "data": {
      "image/png": "[encoded data removed]",
      "text/plain": [
       "<Figure size 640x480 with 1 Axes>"
      ]
     },
     "metadata": {},
     "output_type": "display_data"
    }
   ],
   "source": [
    "import numpy as np\n",
    "import matplotlib.pyplot as plt\n",
    "x = np.arange(1, 10, 1)\n",
    "y = np.sqrt(1 + np.exp(np.sqrt(x)) + np.cos(x**2)) / np.abs(\n",
    "    1 - np.sin(x)**3) + np.log(np.abs(2*x))\n",
    "x2 = x[0:5]\n",
    "y2 = y[0:5]\n",
    "plt.plot(x, y, c = \"r\")\n",
    "plt.grid()\n",
    "plt.show()\n",
    "plt.scatter(x2, y2)\n",
    "plt.grid()\n",
    "plt.show()"
   ]
  },
  {
   "attachments": {},
   "cell_type": "markdown",
   "metadata": {},
   "source": [
    "## 4.3.3 Задание\n",
    "\n",
    "Задача:\n",
    "\n",
    "Дана функция \n",
    "$$\n",
    "\\left | cos(xe^{ (cos(x) + ln(x+1)) })) \\right |\n",
    "$$\n",
    "Построить график на\n",
    "интервале (0,10) с шагом 1 с заливкой площади и найти эту площадь\n",
    "под ним. Для вычисления площади воспользуйте функции trapz(),\n",
    "вычисляющей интеграл по правилу трапеции.\n",
    "\n",
    "Для ее корректной работы необходимо подключить следующие\n",
    "библиотеки:\n",
    "\n",
    "from scipy.integrate import simps\n",
    "\n",
    "from numpy import trapz\n"
   ]
  },
  {
   "cell_type": "code",
   "execution_count": 6,
   "metadata": {},
   "outputs": [
    {
     "name": "stdout",
     "output_type": "stream",
     "text": [
      "6.264365832176607\n"
     ]
    },
    {
     "data": {
      "image/png": "[encoded data removed]",
      "text/plain": [
       "<Figure size 640x480 with 1 Axes>"
      ]
     },
     "metadata": {},
     "output_type": "display_data"
    }
   ],
   "source": [
    "import numpy as np\n",
    "import matplotlib.pyplot as plt\n",
    "from scipy.integrate import simps\n",
    "from numpy import trapz\n",
    "x = np.arange(0, 10, 1)\n",
    "y = np.abs(np.cos(x*np.exp(np.cos(x)) + np.log(x+1)))\n",
    "plt.grid()\n",
    "plt.plot(x, y, c = \"r\")\n",
    "plt.fill_between(x, y)\n",
    "\n",
    "area = trapz(y)\n",
    "print(area)"
   ]
  },
  {
   "attachments": {},
   "cell_type": "markdown",
   "metadata": {},
   "source": [
    "## 4.3.4 Задание\n",
    "\n",
    "Задача:\n",
    "\n",
    "Откройте статистические данные по стоимости акций Apple,\n",
    "Microsoft, Google за 12 месяцев 2021 г. Постройте 3 графика на\n",
    "плоскости и оцените их динамику. Подумайте, как можно улучшить\n",
    "читаемость результатов.\n",
    "\n",
    "Для начальных данных допустимо использовать следующий ресурс:\n",
    "\n",
    "https://finance.yahoo.com"
   ]
  },
  {
   "cell_type": "code",
   "execution_count": 21,
   "metadata": {},
   "outputs": [
    {
     "ename": "TypeError",
     "evalue": "string indices must be integers",
     "output_type": "error",
     "traceback": [
      "\u001b[1;31m---------------------------------------------------------------------------\u001b[0m",
      "\u001b[1;31mTypeError\u001b[0m                                 Traceback (most recent call last)",
      "Cell \u001b[1;32mIn[21], line 6\u001b[0m\n\u001b[0;32m      4\u001b[0m start \u001b[39m=\u001b[39m datetime\u001b[39m.\u001b[39mdatetime(\u001b[39m2021\u001b[39m, \u001b[39m1\u001b[39m, \u001b[39m1\u001b[39m)\n\u001b[0;32m      5\u001b[0m end \u001b[39m=\u001b[39m datetime\u001b[39m.\u001b[39mdatetime(\u001b[39m2021\u001b[39m, \u001b[39m12\u001b[39m, \u001b[39m31\u001b[39m)\n\u001b[1;32m----> 6\u001b[0m df \u001b[39m=\u001b[39m pdr\u001b[39m.\u001b[39;49mDataReader(\u001b[39m\"\u001b[39;49m\u001b[39mAAPL\u001b[39;49m\u001b[39m\"\u001b[39;49m, \u001b[39m'\u001b[39;49m\u001b[39myahoo\u001b[39;49m\u001b[39m'\u001b[39;49m, start, end)\n\u001b[0;32m      7\u001b[0m df1 \u001b[39m=\u001b[39m pdr\u001b[39m.\u001b[39mDataReader(\u001b[39m\"\u001b[39m\u001b[39mMSFT\u001b[39m\u001b[39m\"\u001b[39m, \u001b[39m'\u001b[39m\u001b[39myahoo\u001b[39m\u001b[39m'\u001b[39m, start, end)\n\u001b[0;32m      8\u001b[0m df2 \u001b[39m=\u001b[39m pdr\u001b[39m.\u001b[39mDataReader(\u001b[39m\"\u001b[39m\u001b[39mGOOG\u001b[39m\u001b[39m\"\u001b[39m, \u001b[39m'\u001b[39m\u001b[39myahoo\u001b[39m\u001b[39m'\u001b[39m, start, end)\n",
      "File \u001b[1;32mc:\\Users\\Лев\\AppData\\Local\\Programs\\Python\\Python310\\lib\\site-packages\\pandas\\util\\_decorators.py:211\u001b[0m, in \u001b[0;36mdeprecate_kwarg.<locals>._deprecate_kwarg.<locals>.wrapper\u001b[1;34m(*args, **kwargs)\u001b[0m\n\u001b[0;32m    209\u001b[0m     \u001b[39melse\u001b[39;00m:\n\u001b[0;32m    210\u001b[0m         kwargs[new_arg_name] \u001b[39m=\u001b[39m new_arg_value\n\u001b[1;32m--> 211\u001b[0m \u001b[39mreturn\u001b[39;00m func(\u001b[39m*\u001b[39margs, \u001b[39m*\u001b[39m\u001b[39m*\u001b[39mkwargs)\n",
      "File \u001b[1;32mc:\\Users\\Лев\\AppData\\Local\\Programs\\Python\\Python310\\lib\\site-packages\\pandas_datareader\\data.py:379\u001b[0m, in \u001b[0;36mDataReader\u001b[1;34m(name, data_source, start, end, retry_count, pause, session, api_key)\u001b[0m\n\u001b[0;32m    367\u001b[0m     \u001b[39mraise\u001b[39;00m \u001b[39mNotImplementedError\u001b[39;00m(msg)\n\u001b[0;32m    369\u001b[0m \u001b[39mif\u001b[39;00m data_source \u001b[39m==\u001b[39m \u001b[39m\"\u001b[39m\u001b[39myahoo\u001b[39m\u001b[39m\"\u001b[39m:\n\u001b[0;32m    370\u001b[0m     \u001b[39mreturn\u001b[39;00m YahooDailyReader(\n\u001b[0;32m    371\u001b[0m         symbols\u001b[39m=\u001b[39;49mname,\n\u001b[0;32m    372\u001b[0m         start\u001b[39m=\u001b[39;49mstart,\n\u001b[0;32m    373\u001b[0m         end\u001b[39m=\u001b[39;49mend,\n\u001b[0;32m    374\u001b[0m         adjust_price\u001b[39m=\u001b[39;49m\u001b[39mFalse\u001b[39;49;00m,\n\u001b[0;32m    375\u001b[0m         chunksize\u001b[39m=\u001b[39;49m\u001b[39m25\u001b[39;49m,\n\u001b[0;32m    376\u001b[0m         retry_count\u001b[39m=\u001b[39;49mretry_count,\n\u001b[0;32m    377\u001b[0m         pause\u001b[39m=\u001b[39;49mpause,\n\u001b[0;32m    378\u001b[0m         session\u001b[39m=\u001b[39;49msession,\n\u001b[1;32m--> 379\u001b[0m     )\u001b[39m.\u001b[39;49mread()\n\u001b[0;32m    381\u001b[0m \u001b[39melif\u001b[39;00m data_source \u001b[39m==\u001b[39m \u001b[39m\"\u001b[39m\u001b[39miex\u001b[39m\u001b[39m\"\u001b[39m:\n\u001b[0;32m    382\u001b[0m     \u001b[39mreturn\u001b[39;00m IEXDailyReader(\n\u001b[0;32m    383\u001b[0m         symbols\u001b[39m=\u001b[39mname,\n\u001b[0;32m    384\u001b[0m         start\u001b[39m=\u001b[39mstart,\n\u001b[1;32m   (...)\u001b[0m\n\u001b[0;32m    390\u001b[0m         session\u001b[39m=\u001b[39msession,\n\u001b[0;32m    391\u001b[0m     )\u001b[39m.\u001b[39mread()\n",
      "File \u001b[1;32mc:\\Users\\Лев\\AppData\\Local\\Programs\\Python\\Python310\\lib\\site-packages\\pandas_datareader\\base.py:253\u001b[0m, in \u001b[0;36m_DailyBaseReader.read\u001b[1;34m(self)\u001b[0m\n\u001b[0;32m    251\u001b[0m \u001b[39m# If a single symbol, (e.g., 'GOOG')\u001b[39;00m\n\u001b[0;32m    252\u001b[0m \u001b[39mif\u001b[39;00m \u001b[39misinstance\u001b[39m(\u001b[39mself\u001b[39m\u001b[39m.\u001b[39msymbols, (string_types, \u001b[39mint\u001b[39m)):\n\u001b[1;32m--> 253\u001b[0m     df \u001b[39m=\u001b[39m \u001b[39mself\u001b[39;49m\u001b[39m.\u001b[39;49m_read_one_data(\u001b[39mself\u001b[39;49m\u001b[39m.\u001b[39;49murl, params\u001b[39m=\u001b[39;49m\u001b[39mself\u001b[39;49m\u001b[39m.\u001b[39;49m_get_params(\u001b[39mself\u001b[39;49m\u001b[39m.\u001b[39;49msymbols))\n\u001b[0;32m    254\u001b[0m \u001b[39m# Or multiple symbols, (e.g., ['GOOG', 'AAPL', 'MSFT'])\u001b[39;00m\n\u001b[0;32m    255\u001b[0m \u001b[39melif\u001b[39;00m \u001b[39misinstance\u001b[39m(\u001b[39mself\u001b[39m\u001b[39m.\u001b[39msymbols, DataFrame):\n",
      "File \u001b[1;32mc:\\Users\\Лев\\AppData\\Local\\Programs\\Python\\Python310\\lib\\site-packages\\pandas_datareader\\yahoo\\daily.py:153\u001b[0m, in \u001b[0;36mYahooDailyReader._read_one_data\u001b[1;34m(self, url, params)\u001b[0m\n\u001b[0;32m    151\u001b[0m \u001b[39mtry\u001b[39;00m:\n\u001b[0;32m    152\u001b[0m     j \u001b[39m=\u001b[39m json\u001b[39m.\u001b[39mloads(re\u001b[39m.\u001b[39msearch(ptrn, resp\u001b[39m.\u001b[39mtext, re\u001b[39m.\u001b[39mDOTALL)\u001b[39m.\u001b[39mgroup(\u001b[39m1\u001b[39m))\n\u001b[1;32m--> 153\u001b[0m     data \u001b[39m=\u001b[39m j[\u001b[39m\"\u001b[39;49m\u001b[39mcontext\u001b[39;49m\u001b[39m\"\u001b[39;49m][\u001b[39m\"\u001b[39;49m\u001b[39mdispatcher\u001b[39;49m\u001b[39m\"\u001b[39;49m][\u001b[39m\"\u001b[39;49m\u001b[39mstores\u001b[39;49m\u001b[39m\"\u001b[39;49m][\u001b[39m\"\u001b[39;49m\u001b[39mHistoricalPriceStore\u001b[39;49m\u001b[39m\"\u001b[39;49m]\n\u001b[0;32m    154\u001b[0m \u001b[39mexcept\u001b[39;00m \u001b[39mKeyError\u001b[39;00m:\n\u001b[0;32m    155\u001b[0m     msg \u001b[39m=\u001b[39m \u001b[39m\"\u001b[39m\u001b[39mNo data fetched for symbol \u001b[39m\u001b[39m{}\u001b[39;00m\u001b[39m using \u001b[39m\u001b[39m{}\u001b[39;00m\u001b[39m\"\u001b[39m\n",
      "\u001b[1;31mTypeError\u001b[0m: string indices must be integers"
     ]
    }
   ],
   "source": [
    "import pandas_datareader as pdr\n",
    "import datetime\n",
    "import matplotlib.pyplot as plt\n",
    "start = datetime.datetime(2021, 1, 1)\n",
    "end = datetime.datetime(2021, 12, 31)\n",
    "df = pdr.DataReader(\"AAPL\", 'yahoo', start, end)\n",
    "df1 = pdr.DataReader(\"MSFT\", 'yahoo', start, end)\n",
    "df2 = pdr.DataReader(\"GOOG\", 'yahoo', start, end)\n",
    "plt.plot(df['Close'], c = \"r\")\n",
    "plt.plot(df1['Close'], c = \"b\")\n",
    "plt.plot(df2['Close'], c = \"g\")\n",
    "plt.show()\n",
    "\n"
   ]
  },
  {
   "attachments": {},
   "cell_type": "markdown",
   "metadata": {},
   "source": [
    "## 4.3.5 Задание\n",
    "\n",
    "Задача:\n",
    "\n",
    "Создайте простейший калькулятор, включающий основные действия\n",
    "для двух переменных ′ + ′, ′ − ′, ′ ∙ ′, ′ ÷ ′, а также вычисление следующих функций: 𝑒^𝑥+𝑦\n",
    ", sin(𝑥 + 𝑦) , cos(𝑥 + 𝑦) , 𝑥^𝑦\n"
   ]
  },
  {
   "cell_type": "code",
   "execution_count": 25,
   "metadata": {},
   "outputs": [
    {
     "name": "stdout",
     "output_type": "stream",
     "text": [
      "-0.5440211108893698\n"
     ]
    }
   ],
   "source": [
    "#create the simplest calculator with two variables\n",
    "#and the following operations: +, -, *, /\n",
    "#and the ability to calculate following functions:\n",
    "#e^(x+y), sin(x+y), cos(x+y), x^y\n",
    "\n",
    "import math as m\n",
    "import numpy as np\n",
    "\n",
    "def calc(x, y, op):\n",
    "    if op == '+':\n",
    "        return x + y\n",
    "    elif op == '-':\n",
    "        return x - y\n",
    "    elif op == '*':\n",
    "        return x * y\n",
    "    elif op == '/':\n",
    "        return x / y\n",
    "    elif op == 'e':\n",
    "        return m.exp(x + y)\n",
    "    elif op == 'sin':\n",
    "        return m.sin(x + y)\n",
    "    elif op == 'cos':\n",
    "        return m.cos(x + y)\n",
    "    elif op == '^':\n",
    "        return x ** y\n",
    "    else:\n",
    "        return 'Неверная операция'\n",
    "    \n",
    "x = float(input('Введите первое число: '))\n",
    "y = float(input('Введите второе число: '))\n",
    "op = input('Введите операцию: ')\n",
    "print(calc(x, y, op))"
   ]
  }
 ],
 "metadata": {
  "kernelspec": {
   "display_name": "Python 3",
   "language": "python",
   "name": "python3"
  },
  "language_info": {
   "codemirror_mode": {
    "name": "ipython",
    "version": 3
   },
   "file_extension": ".py",
   "mimetype": "text/x-python",
   "name": "python",
   "nbconvert_exporter": "python",
   "pygments_lexer": "ipython3",
   "version": "3.10.7"
  },
  "orig_nbformat": 4,
  "vscode": {
   "interpreter": {
    "hash": "a96aef744f6c14bb0a4f1422bc8a89ad67e15fa6210d3b5be7875d2f5ed08482"
   }
  }
 },
 "nbformat": 4,
 "nbformat_minor": 2
}
